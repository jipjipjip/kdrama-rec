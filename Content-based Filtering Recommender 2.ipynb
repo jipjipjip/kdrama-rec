{
 "cells": [
  {
   "cell_type": "code",
   "execution_count": 1,
   "id": "85c510bf",
   "metadata": {},
   "outputs": [],
   "source": [
    "import pandas as pd"
   ]
  },
  {
   "cell_type": "code",
   "execution_count": 2,
   "id": "15a9ed10",
   "metadata": {},
   "outputs": [],
   "source": [
    "import numpy as np"
   ]
  },
  {
   "cell_type": "code",
   "execution_count": 3,
   "id": "80ce7572",
   "metadata": {},
   "outputs": [],
   "source": [
    "metadata = pd.read_csv(r'C:\\Users\\user\\OneDrive\\Desktop\\Data Mining\\Project part 1\\top100_kdrama.csv')"
   ]
  },
  {
   "cell_type": "code",
   "execution_count": 4,
   "id": "2a0b959f",
   "metadata": {},
   "outputs": [
    {
     "name": "stdout",
     "output_type": "stream",
     "text": [
      "(100, 14)\n"
     ]
    }
   ],
   "source": [
    "print(metadata.shape)"
   ]
  },
  {
   "cell_type": "code",
   "execution_count": 5,
   "id": "12bc548a",
   "metadata": {},
   "outputs": [
    {
     "data": {
      "text/html": [
       "<div>\n",
       "<style scoped>\n",
       "    .dataframe tbody tr th:only-of-type {\n",
       "        vertical-align: middle;\n",
       "    }\n",
       "\n",
       "    .dataframe tbody tr th {\n",
       "        vertical-align: top;\n",
       "    }\n",
       "\n",
       "    .dataframe thead th {\n",
       "        text-align: right;\n",
       "    }\n",
       "</style>\n",
       "<table border=\"1\" class=\"dataframe\">\n",
       "  <thead>\n",
       "    <tr style=\"text-align: right;\">\n",
       "      <th></th>\n",
       "      <th>Name</th>\n",
       "      <th>Year of release</th>\n",
       "      <th>Aired Date</th>\n",
       "      <th>Aired On</th>\n",
       "      <th>Number of Episode</th>\n",
       "      <th>Network</th>\n",
       "      <th>Duration</th>\n",
       "      <th>Content Rating</th>\n",
       "      <th>Synopsis</th>\n",
       "      <th>Cast</th>\n",
       "      <th>Genre</th>\n",
       "      <th>Tags</th>\n",
       "      <th>Rank</th>\n",
       "      <th>Rating</th>\n",
       "    </tr>\n",
       "  </thead>\n",
       "  <tbody>\n",
       "    <tr>\n",
       "      <th>0</th>\n",
       "      <td>Move to Heaven</td>\n",
       "      <td>2021</td>\n",
       "      <td>May 14, 2021</td>\n",
       "      <td>Friday</td>\n",
       "      <td>10</td>\n",
       "      <td>Netflix</td>\n",
       "      <td>52 min.</td>\n",
       "      <td>18+ Restricted (violence &amp; profanity)</td>\n",
       "      <td>Geu Roo is a young autistic man. He works for ...</td>\n",
       "      <td>Lee Je Hoon, Tang Jun Sang, Hong Seung Hee, Ju...</td>\n",
       "      <td>Life,  Drama,  Family</td>\n",
       "      <td>Autism, Uncle-Nephew Relationship, Death, Sava...</td>\n",
       "      <td>#1</td>\n",
       "      <td>9.2</td>\n",
       "    </tr>\n",
       "    <tr>\n",
       "      <th>1</th>\n",
       "      <td>Hospital Playlist</td>\n",
       "      <td>2020</td>\n",
       "      <td>Mar 12, 2020 - May 28, 2020</td>\n",
       "      <td>Thursday</td>\n",
       "      <td>12</td>\n",
       "      <td>Netflix,  tvN</td>\n",
       "      <td>1 hr. 30 min.</td>\n",
       "      <td>15+ - Teens 15 or older</td>\n",
       "      <td>The stories of people going through their days...</td>\n",
       "      <td>Jo Jung Suk, Yoo Yeon Seok, Jung Kyung Ho, Kim...</td>\n",
       "      <td>Friendship,  Romance,  Life,  Medical</td>\n",
       "      <td>Strong Friendship, Multiple Mains, Best Friend...</td>\n",
       "      <td>#2</td>\n",
       "      <td>9.1</td>\n",
       "    </tr>\n",
       "    <tr>\n",
       "      <th>2</th>\n",
       "      <td>Flower of Evil</td>\n",
       "      <td>2020</td>\n",
       "      <td>Jul 29, 2020 - Sep 23, 2020</td>\n",
       "      <td>Wednesday, Thursday</td>\n",
       "      <td>16</td>\n",
       "      <td>tvN</td>\n",
       "      <td>1 hr. 10 min.</td>\n",
       "      <td>15+ - Teens 15 or older</td>\n",
       "      <td>Although Baek Hee Sung is hiding a dark secret...</td>\n",
       "      <td>Lee Joon Gi, Moon Chae Won, Jang Hee Jin, Seo ...</td>\n",
       "      <td>Thriller,  Romance,  Crime,  Melodrama</td>\n",
       "      <td>Married Couple, Deception, Suspense, Family Se...</td>\n",
       "      <td>#3</td>\n",
       "      <td>9.1</td>\n",
       "    </tr>\n",
       "    <tr>\n",
       "      <th>3</th>\n",
       "      <td>Hospital Playlist 2</td>\n",
       "      <td>2021</td>\n",
       "      <td>Jun 17, 2021 - Sep 16, 2021</td>\n",
       "      <td>Thursday</td>\n",
       "      <td>12</td>\n",
       "      <td>Netflix,  tvN</td>\n",
       "      <td>1 hr. 40 min.</td>\n",
       "      <td>15+ - Teens 15 or older</td>\n",
       "      <td>Everyday is extraordinary for five doctors and...</td>\n",
       "      <td>Jo Jung Suk, Yoo Yeon Seok, Jung Kyung Ho, Kim...</td>\n",
       "      <td>Friendship,  Romance,  Life,  Medical</td>\n",
       "      <td>Workplace, Strong Friendship, Best Friends, Mu...</td>\n",
       "      <td>#4</td>\n",
       "      <td>9.1</td>\n",
       "    </tr>\n",
       "    <tr>\n",
       "      <th>4</th>\n",
       "      <td>My Mister</td>\n",
       "      <td>2018</td>\n",
       "      <td>Mar 21, 2018 - May 17, 2018</td>\n",
       "      <td>Wednesday, Thursday</td>\n",
       "      <td>16</td>\n",
       "      <td>tvN</td>\n",
       "      <td>1 hr. 17 min.</td>\n",
       "      <td>15+ - Teens 15 or older</td>\n",
       "      <td>Park Dong Hoon is a middle-aged engineer who i...</td>\n",
       "      <td>Lee Sun Kyun, IU, Park Ho San, Song Sae Byuk, ...</td>\n",
       "      <td>Psychological,  Life,  Drama,  Family</td>\n",
       "      <td>Age Gap, Nice Male Lead, Strong Female Lead, H...</td>\n",
       "      <td>#5</td>\n",
       "      <td>9.1</td>\n",
       "    </tr>\n",
       "  </tbody>\n",
       "</table>\n",
       "</div>"
      ],
      "text/plain": [
       "                  Name  Year of release                   Aired Date  \\\n",
       "0       Move to Heaven             2021                 May 14, 2021   \n",
       "1    Hospital Playlist             2020  Mar 12, 2020 - May 28, 2020   \n",
       "2       Flower of Evil             2020  Jul 29, 2020 - Sep 23, 2020   \n",
       "3  Hospital Playlist 2             2021  Jun 17, 2021 - Sep 16, 2021   \n",
       "4            My Mister             2018  Mar 21, 2018 - May 17, 2018   \n",
       "\n",
       "               Aired On  Number of Episode         Network       Duration  \\\n",
       "0                Friday                 10        Netflix         52 min.   \n",
       "1              Thursday                 12  Netflix,  tvN   1 hr. 30 min.   \n",
       "2   Wednesday, Thursday                 16            tvN   1 hr. 10 min.   \n",
       "3              Thursday                 12  Netflix,  tvN   1 hr. 40 min.   \n",
       "4   Wednesday, Thursday                 16            tvN   1 hr. 17 min.   \n",
       "\n",
       "                           Content Rating  \\\n",
       "0  18+ Restricted (violence & profanity)    \n",
       "1                15+ - Teens 15 or older    \n",
       "2                15+ - Teens 15 or older    \n",
       "3                15+ - Teens 15 or older    \n",
       "4                15+ - Teens 15 or older    \n",
       "\n",
       "                                            Synopsis  \\\n",
       "0  Geu Roo is a young autistic man. He works for ...   \n",
       "1  The stories of people going through their days...   \n",
       "2  Although Baek Hee Sung is hiding a dark secret...   \n",
       "3  Everyday is extraordinary for five doctors and...   \n",
       "4  Park Dong Hoon is a middle-aged engineer who i...   \n",
       "\n",
       "                                                Cast  \\\n",
       "0  Lee Je Hoon, Tang Jun Sang, Hong Seung Hee, Ju...   \n",
       "1  Jo Jung Suk, Yoo Yeon Seok, Jung Kyung Ho, Kim...   \n",
       "2  Lee Joon Gi, Moon Chae Won, Jang Hee Jin, Seo ...   \n",
       "3  Jo Jung Suk, Yoo Yeon Seok, Jung Kyung Ho, Kim...   \n",
       "4  Lee Sun Kyun, IU, Park Ho San, Song Sae Byuk, ...   \n",
       "\n",
       "                                     Genre  \\\n",
       "0                   Life,  Drama,  Family    \n",
       "1   Friendship,  Romance,  Life,  Medical    \n",
       "2  Thriller,  Romance,  Crime,  Melodrama    \n",
       "3   Friendship,  Romance,  Life,  Medical    \n",
       "4   Psychological,  Life,  Drama,  Family    \n",
       "\n",
       "                                                Tags Rank  Rating  \n",
       "0  Autism, Uncle-Nephew Relationship, Death, Sava...   #1     9.2  \n",
       "1  Strong Friendship, Multiple Mains, Best Friend...   #2     9.1  \n",
       "2  Married Couple, Deception, Suspense, Family Se...   #3     9.1  \n",
       "3  Workplace, Strong Friendship, Best Friends, Mu...   #4     9.1  \n",
       "4  Age Gap, Nice Male Lead, Strong Female Lead, H...   #5     9.1  "
      ]
     },
     "execution_count": 5,
     "metadata": {},
     "output_type": "execute_result"
    }
   ],
   "source": [
    "metadata.head(5)"
   ]
  },
  {
   "cell_type": "code",
   "execution_count": 6,
   "id": "0029545d",
   "metadata": {
    "scrolled": true
   },
   "outputs": [
    {
     "data": {
      "text/plain": [
       "False"
      ]
     },
     "execution_count": 6,
     "metadata": {},
     "output_type": "execute_result"
    }
   ],
   "source": [
    "metadata.isnull().values.any()"
   ]
  },
  {
   "cell_type": "code",
   "execution_count": 7,
   "id": "09407c9d",
   "metadata": {},
   "outputs": [],
   "source": [
    "metadata_type = metadata.dtypes"
   ]
  },
  {
   "cell_type": "code",
   "execution_count": 8,
   "id": "d671b8ab",
   "metadata": {
    "scrolled": true
   },
   "outputs": [
    {
     "name": "stdout",
     "output_type": "stream",
     "text": [
      "Name                  object\n",
      "Year of release        int64\n",
      "Aired Date            object\n",
      "Aired On              object\n",
      "Number of Episode      int64\n",
      "Network               object\n",
      "Duration              object\n",
      "Content Rating        object\n",
      "Synopsis              object\n",
      "Cast                  object\n",
      "Genre                 object\n",
      "Tags                  object\n",
      "Rank                  object\n",
      "Rating               float64\n",
      "dtype: object\n"
     ]
    }
   ],
   "source": [
    "print(metadata_type)"
   ]
  },
  {
   "cell_type": "code",
   "execution_count": 9,
   "id": "f5a963ca",
   "metadata": {
    "scrolled": true
   },
   "outputs": [
    {
     "name": "stdout",
     "output_type": "stream",
     "text": [
      "metadata shape: (100, 14)\n",
      "metadata columns name: Index(['Name', 'Year of release', 'Aired Date', 'Aired On',\n",
      "       'Number of Episode', 'Network', 'Duration', 'Content Rating',\n",
      "       'Synopsis', 'Cast', 'Genre', 'Tags', 'Rank', 'Rating'],\n",
      "      dtype='object')\n"
     ]
    }
   ],
   "source": [
    "print(\"metadata shape:\",metadata.shape)\n",
    "print(\"metadata columns name:\",metadata.columns)"
   ]
  },
  {
   "cell_type": "code",
   "execution_count": 10,
   "id": "339f36fb",
   "metadata": {},
   "outputs": [],
   "source": [
    "import matplotlib.pyplot as plt"
   ]
  },
  {
   "cell_type": "code",
   "execution_count": 11,
   "id": "ea091fe0",
   "metadata": {},
   "outputs": [],
   "source": [
    "from collections import Counter"
   ]
  },
  {
   "cell_type": "code",
   "execution_count": null,
   "id": "98fb033f",
   "metadata": {},
   "outputs": [],
   "source": []
  },
  {
   "cell_type": "code",
   "execution_count": 12,
   "id": "cfbb301b",
   "metadata": {},
   "outputs": [
    {
     "name": "stdout",
     "output_type": "stream",
     "text": [
      "                                                    Count\n",
      "Autism, Uncle-Nephew Relationship, Death, Savan...      1\n",
      "Forensic Science, Prosecutor Female Lead, Docto...      1\n",
      "Afterlife, Tragic Past, Grudge, Hot-tempered Fe...      1\n",
      "Housemates, Female Centered Plot, Sismance, Mul...      1\n",
      "Smart Female Lead, Strong Female Lead, Power St...      1\n",
      "...                                                   ...\n",
      "Determined Male Lead, Investigation, Suspense, ...      1\n",
      "Revenge, Corruption, High Class Society, Female...      1\n",
      "1980s, Police Procedural, Bromance, Calm Male L...      1\n",
      "Judge, Tough Past, Dystopia, Antihero, Bromance...      1\n",
      "Childhood Friends, Friends To Lovers, Strong Ma...      1\n",
      "\n",
      "[100 rows x 1 columns]\n"
     ]
    }
   ],
   "source": [
    "metadata['Tags'] = metadata['Tags'].str.strip()\n",
    "\n",
    "tags_list = list()\n",
    "for tags in metadata['Tags'].to_list():\n",
    "    tags = tags.split(\",  \")\n",
    "    for tag in tags:\n",
    "        tags_list.append(tag)\n",
    "        \n",
    "tags_df = pd.DataFrame.from_dict(Counter(tags_list), orient = 'index').rename(columns = {0:'Count'})\n",
    "tags_df.sort_values(by='Count',ascending = False, inplace = True)\n",
    "print(tags_df)"
   ]
  },
  {
   "cell_type": "code",
   "execution_count": 13,
   "id": "84d0d4a0",
   "metadata": {
    "scrolled": false
   },
   "outputs": [
    {
     "name": "stdout",
     "output_type": "stream",
     "text": [
      "               Count\n",
      "Drama             52\n",
      "Romance           49\n",
      "Comedy            36\n",
      "Mystery           33\n",
      "Thriller          33\n",
      "Action            19\n",
      "Life              18\n",
      "Family            15\n",
      "Melodrama         14\n",
      "Historical        14\n",
      "Crime             13\n",
      "Psychological     12\n",
      "Supernatural      12\n",
      "Fantasy           11\n",
      "Political         10\n",
      "Friendship         9\n",
      "Law                8\n",
      "Horror             7\n",
      "Medical            7\n",
      "Sci-Fi             5\n",
      "Youth              5\n",
      "Sports             4\n",
      "Business           4\n",
      "Military           3\n",
      "School             2\n",
      "Food               1\n"
     ]
    }
   ],
   "source": [
    "metadata['Genre'] = metadata['Genre'].str.strip()\n",
    "\n",
    "genre_list = list()\n",
    "for genres in metadata['Genre'].to_list():\n",
    "    genres = genres.split(\",  \")\n",
    "    for gen in genres:\n",
    "        genre_list.append(gen)\n",
    "        \n",
    "genre_df = pd.DataFrame.from_dict(Counter(genre_list), orient = 'index').rename(columns = {0:'Count'})\n",
    "genre_df.sort_values(by='Count',ascending = False, inplace = True)\n",
    "print(genre_df)"
   ]
  },
  {
   "cell_type": "code",
   "execution_count": 14,
   "id": "73f7c3de",
   "metadata": {},
   "outputs": [
    {
     "data": {
      "text/html": [
       "<div>\n",
       "<style scoped>\n",
       "    .dataframe tbody tr th:only-of-type {\n",
       "        vertical-align: middle;\n",
       "    }\n",
       "\n",
       "    .dataframe tbody tr th {\n",
       "        vertical-align: top;\n",
       "    }\n",
       "\n",
       "    .dataframe thead th {\n",
       "        text-align: right;\n",
       "    }\n",
       "</style>\n",
       "<table border=\"1\" class=\"dataframe\">\n",
       "  <thead>\n",
       "    <tr style=\"text-align: right;\">\n",
       "      <th></th>\n",
       "      <th>Appearance</th>\n",
       "    </tr>\n",
       "  </thead>\n",
       "  <tbody>\n",
       "    <tr>\n",
       "      <th>Lee Joon Hyuk</th>\n",
       "      <td>6</td>\n",
       "    </tr>\n",
       "    <tr>\n",
       "      <th>Jung Kyung Ho</th>\n",
       "      <td>5</td>\n",
       "    </tr>\n",
       "    <tr>\n",
       "      <th>Kim Ji Won</th>\n",
       "      <td>5</td>\n",
       "    </tr>\n",
       "    <tr>\n",
       "      <th>Song Joong Ki</th>\n",
       "      <td>5</td>\n",
       "    </tr>\n",
       "    <tr>\n",
       "      <th>Ji Sung</th>\n",
       "      <td>4</td>\n",
       "    </tr>\n",
       "    <tr>\n",
       "      <th>Yoo Yeon Seok</th>\n",
       "      <td>4</td>\n",
       "    </tr>\n",
       "    <tr>\n",
       "      <th>Bae Doo Na</th>\n",
       "      <td>4</td>\n",
       "    </tr>\n",
       "    <tr>\n",
       "      <th>Lee Jae Yoon</th>\n",
       "      <td>3</td>\n",
       "    </tr>\n",
       "    <tr>\n",
       "      <th>Jun Suk Ho</th>\n",
       "      <td>3</td>\n",
       "    </tr>\n",
       "    <tr>\n",
       "      <th>Kim Jung Hyun</th>\n",
       "      <td>3</td>\n",
       "    </tr>\n",
       "  </tbody>\n",
       "</table>\n",
       "</div>"
      ],
      "text/plain": [
       "               Appearance\n",
       "Lee Joon Hyuk           6\n",
       "Jung Kyung Ho           5\n",
       "Kim Ji Won              5\n",
       "Song Joong Ki           5\n",
       "Ji Sung                 4\n",
       "Yoo Yeon Seok           4\n",
       "Bae Doo Na              4\n",
       "Lee Jae Yoon            3\n",
       "Jun Suk Ho              3\n",
       "Kim Jung Hyun           3"
      ]
     },
     "execution_count": 14,
     "metadata": {},
     "output_type": "execute_result"
    }
   ],
   "source": [
    "cast_list = list()\n",
    "\n",
    "for casts in metadata['Cast'].to_list():\n",
    "    casts = casts.split(\", \")\n",
    "    for a in casts:\n",
    "        cast_list.append(a)\n",
    "        \n",
    "cast_df = pd.DataFrame.from_dict(Counter(cast_list),orient = 'index').rename(columns = {0:'Appearance'})\n",
    "cast_df.sort_values(by='Appearance',ascending = False,inplace = True)\n",
    "cast_df.head(10)"
   ]
  },
  {
   "cell_type": "code",
   "execution_count": 15,
   "id": "be5b7087",
   "metadata": {},
   "outputs": [
    {
     "data": {
      "text/html": [
       "<div>\n",
       "<style scoped>\n",
       "    .dataframe tbody tr th:only-of-type {\n",
       "        vertical-align: middle;\n",
       "    }\n",
       "\n",
       "    .dataframe tbody tr th {\n",
       "        vertical-align: top;\n",
       "    }\n",
       "\n",
       "    .dataframe thead th {\n",
       "        text-align: right;\n",
       "    }\n",
       "</style>\n",
       "<table border=\"1\" class=\"dataframe\">\n",
       "  <thead>\n",
       "    <tr style=\"text-align: right;\">\n",
       "      <th></th>\n",
       "      <th>Count</th>\n",
       "    </tr>\n",
       "  </thead>\n",
       "  <tbody>\n",
       "    <tr>\n",
       "      <th>Strong Female Lead</th>\n",
       "      <td>43</td>\n",
       "    </tr>\n",
       "    <tr>\n",
       "      <th>Smart Female Lead</th>\n",
       "      <td>22</td>\n",
       "    </tr>\n",
       "    <tr>\n",
       "      <th>Bromance</th>\n",
       "      <td>21</td>\n",
       "    </tr>\n",
       "    <tr>\n",
       "      <th>Smart Male Lead</th>\n",
       "      <td>19</td>\n",
       "    </tr>\n",
       "    <tr>\n",
       "      <th>Murder</th>\n",
       "      <td>18</td>\n",
       "    </tr>\n",
       "  </tbody>\n",
       "</table>\n",
       "</div>"
      ],
      "text/plain": [
       "                    Count\n",
       "Strong Female Lead     43\n",
       "Smart Female Lead      22\n",
       "Bromance               21\n",
       "Smart Male Lead        19\n",
       "Murder                 18"
      ]
     },
     "execution_count": 15,
     "metadata": {},
     "output_type": "execute_result"
    }
   ],
   "source": [
    "tags_list = list()\n",
    "\n",
    "for tags in metadata['Tags'].to_list():\n",
    "    tags = tags.split(\", \")\n",
    "    for tag in tags:\n",
    "        tags_list.append(tag)\n",
    "\n",
    "tags_df = pd.DataFrame.from_dict(Counter(tags_list), orient = 'index').rename(columns = {0:'Count'})\n",
    "tags_df.sort_values(by='Count',ascending = False, inplace = True)\n",
    "tags_df.head()"
   ]
  },
  {
   "cell_type": "code",
   "execution_count": null,
   "id": "e65f0519",
   "metadata": {},
   "outputs": [],
   "source": []
  },
  {
   "cell_type": "code",
   "execution_count": 16,
   "id": "0675a5d6",
   "metadata": {},
   "outputs": [],
   "source": [
    "def get_list(x):\n",
    "    list_x = str(x)\n",
    "    string_list = list_x.split(\",\")\n",
    "    if len(string_list)>3:\n",
    "        return string_list[:3]\n",
    "    return string_list"
   ]
  },
  {
   "cell_type": "code",
   "execution_count": null,
   "id": "62c678f9",
   "metadata": {},
   "outputs": [],
   "source": []
  },
  {
   "cell_type": "code",
   "execution_count": 17,
   "id": "4d57dbf7",
   "metadata": {},
   "outputs": [
    {
     "data": {
      "text/html": [
       "<div>\n",
       "<style scoped>\n",
       "    .dataframe tbody tr th:only-of-type {\n",
       "        vertical-align: middle;\n",
       "    }\n",
       "\n",
       "    .dataframe tbody tr th {\n",
       "        vertical-align: top;\n",
       "    }\n",
       "\n",
       "    .dataframe thead th {\n",
       "        text-align: right;\n",
       "    }\n",
       "</style>\n",
       "<table border=\"1\" class=\"dataframe\">\n",
       "  <thead>\n",
       "    <tr style=\"text-align: right;\">\n",
       "      <th></th>\n",
       "      <th>Name</th>\n",
       "      <th>Cast</th>\n",
       "      <th>Tags</th>\n",
       "      <th>Genre</th>\n",
       "    </tr>\n",
       "  </thead>\n",
       "  <tbody>\n",
       "    <tr>\n",
       "      <th>0</th>\n",
       "      <td>Move to Heaven</td>\n",
       "      <td>[Lee Je Hoon,  Tang Jun Sang,  Hong Seung Hee]</td>\n",
       "      <td>[Autism,  Uncle-Nephew Relationship,  Death]</td>\n",
       "      <td>[Life,   Drama,   Family]</td>\n",
       "    </tr>\n",
       "    <tr>\n",
       "      <th>1</th>\n",
       "      <td>Hospital Playlist</td>\n",
       "      <td>[Jo Jung Suk,  Yoo Yeon Seok,  Jung Kyung Ho]</td>\n",
       "      <td>[Strong Friendship,  Multiple Mains,  Best Fri...</td>\n",
       "      <td>[Friendship,   Romance,   Life]</td>\n",
       "    </tr>\n",
       "    <tr>\n",
       "      <th>2</th>\n",
       "      <td>Flower of Evil</td>\n",
       "      <td>[Lee Joon Gi,  Moon Chae Won,  Jang Hee Jin]</td>\n",
       "      <td>[Married Couple,  Deception,  Suspense]</td>\n",
       "      <td>[Thriller,   Romance,   Crime]</td>\n",
       "    </tr>\n",
       "    <tr>\n",
       "      <th>3</th>\n",
       "      <td>Hospital Playlist 2</td>\n",
       "      <td>[Jo Jung Suk,  Yoo Yeon Seok,  Jung Kyung Ho]</td>\n",
       "      <td>[Workplace,  Strong Friendship,  Best Friends]</td>\n",
       "      <td>[Friendship,   Romance,   Life]</td>\n",
       "    </tr>\n",
       "    <tr>\n",
       "      <th>4</th>\n",
       "      <td>My Mister</td>\n",
       "      <td>[Lee Sun Kyun,  IU,  Park Ho San]</td>\n",
       "      <td>[Age Gap,  Nice Male Lead,  Strong Female Lead]</td>\n",
       "      <td>[Psychological,   Life,   Drama]</td>\n",
       "    </tr>\n",
       "  </tbody>\n",
       "</table>\n",
       "</div>"
      ],
      "text/plain": [
       "                  Name                                            Cast  \\\n",
       "0       Move to Heaven  [Lee Je Hoon,  Tang Jun Sang,  Hong Seung Hee]   \n",
       "1    Hospital Playlist   [Jo Jung Suk,  Yoo Yeon Seok,  Jung Kyung Ho]   \n",
       "2       Flower of Evil    [Lee Joon Gi,  Moon Chae Won,  Jang Hee Jin]   \n",
       "3  Hospital Playlist 2   [Jo Jung Suk,  Yoo Yeon Seok,  Jung Kyung Ho]   \n",
       "4            My Mister               [Lee Sun Kyun,  IU,  Park Ho San]   \n",
       "\n",
       "                                                Tags  \\\n",
       "0       [Autism,  Uncle-Nephew Relationship,  Death]   \n",
       "1  [Strong Friendship,  Multiple Mains,  Best Fri...   \n",
       "2            [Married Couple,  Deception,  Suspense]   \n",
       "3     [Workplace,  Strong Friendship,  Best Friends]   \n",
       "4    [Age Gap,  Nice Male Lead,  Strong Female Lead]   \n",
       "\n",
       "                              Genre  \n",
       "0         [Life,   Drama,   Family]  \n",
       "1   [Friendship,   Romance,   Life]  \n",
       "2    [Thriller,   Romance,   Crime]  \n",
       "3   [Friendship,   Romance,   Life]  \n",
       "4  [Psychological,   Life,   Drama]  "
      ]
     },
     "execution_count": 17,
     "metadata": {},
     "output_type": "execute_result"
    }
   ],
   "source": [
    "features = ['Cast', 'Tags', 'Genre']\n",
    "\n",
    "for feature in features:\n",
    "  metadata[feature] = metadata[feature].apply(get_list)\n",
    "\n",
    "metadata[['Name','Cast','Tags', 'Genre']].head()"
   ]
  },
  {
   "cell_type": "code",
   "execution_count": 18,
   "id": "b872af51",
   "metadata": {},
   "outputs": [],
   "source": [
    "def clean_data(x):\n",
    "    clean_x = str(x)\n",
    "    return [str.lower(i.replace(\" \", \"\")) for i in x]"
   ]
  },
  {
   "cell_type": "code",
   "execution_count": 19,
   "id": "eb1bcb94",
   "metadata": {},
   "outputs": [],
   "source": [
    "features = ['Cast', 'Tags', 'Genre']\n",
    "\n",
    "for feature in features:\n",
    "  metadata[feature] = metadata[feature].apply(clean_data)"
   ]
  },
  {
   "cell_type": "code",
   "execution_count": 20,
   "id": "4666e0db",
   "metadata": {},
   "outputs": [
    {
     "data": {
      "text/html": [
       "<div>\n",
       "<style scoped>\n",
       "    .dataframe tbody tr th:only-of-type {\n",
       "        vertical-align: middle;\n",
       "    }\n",
       "\n",
       "    .dataframe tbody tr th {\n",
       "        vertical-align: top;\n",
       "    }\n",
       "\n",
       "    .dataframe thead th {\n",
       "        text-align: right;\n",
       "    }\n",
       "</style>\n",
       "<table border=\"1\" class=\"dataframe\">\n",
       "  <thead>\n",
       "    <tr style=\"text-align: right;\">\n",
       "      <th></th>\n",
       "      <th>Name</th>\n",
       "      <th>Word soup</th>\n",
       "      <th>Cast</th>\n",
       "      <th>Tags</th>\n",
       "      <th>Genre</th>\n",
       "    </tr>\n",
       "  </thead>\n",
       "  <tbody>\n",
       "    <tr>\n",
       "      <th>0</th>\n",
       "      <td>Move to Heaven</td>\n",
       "      <td>leejehoon tangjunsang hongseunghee autism uncl...</td>\n",
       "      <td>[leejehoon, tangjunsang, hongseunghee]</td>\n",
       "      <td>[autism, uncle-nephewrelationship, death]</td>\n",
       "      <td>[life, drama, family]</td>\n",
       "    </tr>\n",
       "    <tr>\n",
       "      <th>1</th>\n",
       "      <td>Hospital Playlist</td>\n",
       "      <td>jojungsuk yooyeonseok jungkyungho strongfriend...</td>\n",
       "      <td>[jojungsuk, yooyeonseok, jungkyungho]</td>\n",
       "      <td>[strongfriendship, multiplemains, bestfriends]</td>\n",
       "      <td>[friendship, romance, life]</td>\n",
       "    </tr>\n",
       "    <tr>\n",
       "      <th>2</th>\n",
       "      <td>Flower of Evil</td>\n",
       "      <td>leejoongi moonchaewon jangheejin marriedcouple...</td>\n",
       "      <td>[leejoongi, moonchaewon, jangheejin]</td>\n",
       "      <td>[marriedcouple, deception, suspense]</td>\n",
       "      <td>[thriller, romance, crime]</td>\n",
       "    </tr>\n",
       "    <tr>\n",
       "      <th>3</th>\n",
       "      <td>Hospital Playlist 2</td>\n",
       "      <td>jojungsuk yooyeonseok jungkyungho workplace st...</td>\n",
       "      <td>[jojungsuk, yooyeonseok, jungkyungho]</td>\n",
       "      <td>[workplace, strongfriendship, bestfriends]</td>\n",
       "      <td>[friendship, romance, life]</td>\n",
       "    </tr>\n",
       "    <tr>\n",
       "      <th>4</th>\n",
       "      <td>My Mister</td>\n",
       "      <td>leesunkyun iu parkhosan agegap nicemalelead st...</td>\n",
       "      <td>[leesunkyun, iu, parkhosan]</td>\n",
       "      <td>[agegap, nicemalelead, strongfemalelead]</td>\n",
       "      <td>[psychological, life, drama]</td>\n",
       "    </tr>\n",
       "  </tbody>\n",
       "</table>\n",
       "</div>"
      ],
      "text/plain": [
       "                  Name                                          Word soup  \\\n",
       "0       Move to Heaven  leejehoon tangjunsang hongseunghee autism uncl...   \n",
       "1    Hospital Playlist  jojungsuk yooyeonseok jungkyungho strongfriend...   \n",
       "2       Flower of Evil  leejoongi moonchaewon jangheejin marriedcouple...   \n",
       "3  Hospital Playlist 2  jojungsuk yooyeonseok jungkyungho workplace st...   \n",
       "4            My Mister  leesunkyun iu parkhosan agegap nicemalelead st...   \n",
       "\n",
       "                                     Cast  \\\n",
       "0  [leejehoon, tangjunsang, hongseunghee]   \n",
       "1   [jojungsuk, yooyeonseok, jungkyungho]   \n",
       "2    [leejoongi, moonchaewon, jangheejin]   \n",
       "3   [jojungsuk, yooyeonseok, jungkyungho]   \n",
       "4             [leesunkyun, iu, parkhosan]   \n",
       "\n",
       "                                             Tags  \\\n",
       "0       [autism, uncle-nephewrelationship, death]   \n",
       "1  [strongfriendship, multiplemains, bestfriends]   \n",
       "2            [marriedcouple, deception, suspense]   \n",
       "3      [workplace, strongfriendship, bestfriends]   \n",
       "4        [agegap, nicemalelead, strongfemalelead]   \n",
       "\n",
       "                          Genre  \n",
       "0         [life, drama, family]  \n",
       "1   [friendship, romance, life]  \n",
       "2    [thriller, romance, crime]  \n",
       "3   [friendship, romance, life]  \n",
       "4  [psychological, life, drama]  "
      ]
     },
     "execution_count": 20,
     "metadata": {},
     "output_type": "execute_result"
    }
   ],
   "source": [
    "def create_soup(x):\n",
    "    return ' '.join(x['Cast']) + ' ' + ' '.join(x['Tags']) +' '+ ' '.join(x['Genre'])\n",
    "\n",
    "metadata['Word soup'] = metadata.apply(create_soup, axis=1)\n",
    "metadata[['Name', 'Word soup', 'Cast', 'Tags', 'Genre']].head()"
   ]
  },
  {
   "cell_type": "code",
   "execution_count": 21,
   "id": "07c92bba",
   "metadata": {},
   "outputs": [],
   "source": [
    "def get_genre():\n",
    "  genre = input(\"What KDrama genre are you interested in (if multiple, please separate them with a comma)? [Type 'skip' to skip this question] \")\n",
    "  genre = \" \".join([\"\".join(n.split()) for n in genre.lower().split(',')])\n",
    "  return genre\n",
    "\n",
    "def get_actors():\n",
    "  actors = input(\"Who are some actors within the genre that you love (if multiple, please separate them with a comma)? [Type 'skip' to skip this question] \")\n",
    "  actors = \" \".join([\"\".join(n.split()) for n in actors.lower().split(',')])\n",
    "  return actors\n",
    "\n",
    "def get_tags():\n",
    "  tags = input(\"What are some of the tags that describe the Kdramas you want to watch, like elements of the plot, whether or not it is about friendship, etc? (if multiple, please separate them with a comma)? [Type 'skip' to skip this question] \")\n",
    "  tags = \" \".join([\"\".join(n. split()) for n in tags.lower().split(',')])\n",
    "  return tags\n",
    "\n",
    "def get_searchTerms():\n",
    "  searchTerms = [] \n",
    "  genre = get_genre()\n",
    "  if genre != 'skip':\n",
    "    searchTerms.append(genre)\n",
    "\n",
    "  actors = get_actors()\n",
    "  if actors != 'skip':\n",
    "    searchTerms.append(actors)\n",
    "\n",
    "  tags = get_tags()\n",
    "  if tags != 'skip':\n",
    "    searchTerms.append(tags)\n",
    "  \n",
    "  return searchTerms"
   ]
  },
  {
   "cell_type": "code",
   "execution_count": 22,
   "id": "bb07dc0d",
   "metadata": {},
   "outputs": [],
   "source": [
    "from sklearn.feature_extraction.text import CountVectorizer\n",
    "from sklearn.metrics.pairwise import cosine_similarity"
   ]
  },
  {
   "cell_type": "code",
   "execution_count": 23,
   "id": "12e18704",
   "metadata": {},
   "outputs": [],
   "source": [
    "def recommendation(metadata=metadata):\n",
    "  new_row = metadata.iloc[-1,:].copy()\n",
    "\n",
    "  searchTerms = get_searchTerms()  \n",
    "  new_row.iloc[-1] = \" \".join(searchTerms) \n",
    "  \n",
    "\n",
    "  metadata = metadata.append(new_row)\n",
    "  \n",
    "  \n",
    "  count = CountVectorizer(stop_words='english')\n",
    "  count_matrix = count.fit_transform(metadata['Word soup'])\n",
    "\n",
    "  \n",
    "  cosine_sim2 = cosine_similarity(count_matrix, count_matrix) \n",
    "  \n",
    "    \n",
    "  sim_scores = list(enumerate(cosine_sim2[-1,:]))\n",
    "  sim_scores = sorted(sim_scores, key=lambda x: x[1], reverse=True)\n",
    "    \n",
    "  ranked_titles = []\n",
    "  for i in range(1, 11):\n",
    "    indx = sim_scores[i][0]\n",
    "    ranked_titles.append([metadata['Name'].iloc[indx], sim_scores[i]])\n",
    "  \n",
    "  return ranked_titles"
   ]
  },
  {
   "cell_type": "code",
   "execution_count": 24,
   "id": "01aaf2c0",
   "metadata": {
    "scrolled": false
   },
   "outputs": [
    {
     "name": "stdout",
     "output_type": "stream",
     "text": [
      "What KDrama genre are you interested in (if multiple, please separate them with a comma)? [Type 'skip' to skip this question] Action, thriller, horror\n",
      "Who are some actors within the genre that you love (if multiple, please separate them with a comma)? [Type 'skip' to skip this question] skip\n",
      "What are some of the tags that describe the Kdramas you want to watch, like elements of the plot, whether or not it is about friendship, etc? (if multiple, please separate them with a comma)? [Type 'skip' to skip this question] detective, zombies, trauma\n"
     ]
    },
    {
     "name": "stderr",
     "output_type": "stream",
     "text": [
      "C:\\Users\\user\\AppData\\Local\\Temp\\ipykernel_8588\\1118678996.py:8: FutureWarning: The frame.append method is deprecated and will be removed from pandas in a future version. Use pandas.concat instead.\n",
      "  metadata = metadata.append(new_row)\n"
     ]
    },
    {
     "data": {
      "text/plain": [
       "[['Kingdom', (16, 0.408248290463863)],\n",
       " ['Happiness', (12, 0.2721655269759087)],\n",
       " ['Healer', (18, 0.2721655269759087)],\n",
       " ['Kingdom', (24, 0.2721655269759087)],\n",
       " ['Taxi Driver', (31, 0.2721655269759087)],\n",
       " ['The Guest', (33, 0.2721655269759087)],\n",
       " ['My Name', (48, 0.2721655269759087)],\n",
       " ['Strong Woman Do Bong Soon', (55, 0.2721655269759087)],\n",
       " ['Strangers from Hell', (59, 0.2721655269759087)],\n",
       " ['Children of Nobody', (66, 0.2721655269759087)]]"
      ]
     },
     "execution_count": 24,
     "metadata": {},
     "output_type": "execute_result"
    }
   ],
   "source": [
    "recommendation()"
   ]
  },
  {
   "cell_type": "code",
   "execution_count": null,
   "id": "7a52f096",
   "metadata": {},
   "outputs": [],
   "source": [
    "recommendation()"
   ]
  },
  {
   "cell_type": "code",
   "execution_count": null,
   "id": "40ad3069",
   "metadata": {},
   "outputs": [],
   "source": []
  }
 ],
 "metadata": {
  "kernelspec": {
   "display_name": "Python 3 (ipykernel)",
   "language": "python",
   "name": "python3"
  },
  "language_info": {
   "codemirror_mode": {
    "name": "ipython",
    "version": 3
   },
   "file_extension": ".py",
   "mimetype": "text/x-python",
   "name": "python",
   "nbconvert_exporter": "python",
   "pygments_lexer": "ipython3",
   "version": "3.9.12"
  }
 },
 "nbformat": 4,
 "nbformat_minor": 5
}
